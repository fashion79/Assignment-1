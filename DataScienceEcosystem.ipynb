{
  "cells": [
    {
      "cell_type": "markdown",
      "metadata": {},
      "source": [
        "# Data Science Tools and Ecosystem"
      ]
    },
    {
      "cell_type": "markdown",
      "metadata": {},
      "source": [
        "**The contents about Data Science Tools and Ecosystem are summarized in this Jupyter Notebook.**"
      ]
    },
    {
      "cell_type": "markdown",
      "metadata": {},
      "source": [
        "__Objectives:__"
      ]
    },
    {
      "cell_type": "markdown",
      "metadata": {},
      "source": [
        "* Python\n",
        "* R\n",
        "* SQL\n",
        "* Julia\n",
        "* JavaScript"
      ]
    },
    {
      "cell_type": "markdown",
      "metadata": {
        "jp-MarkdownHeadingCollapsed": true
      },
      "source": [
        "**There are many well-known languages used by Data Scientists. They are:**\n",
        "1. Python\n",
        "2. R\n",
        "3. SQL\n",
        "4. Julia\n",
        "5. JavaScript"
      ]
    },
    {
      "cell_type": "markdown",
      "metadata": {},
      "source": [
        "**The widely utilized libraries in Data Science are:**\n",
        "1. Pandas\n",
        "2. NumPy\n",
        "3. Matplotlib\n",
        "4. Seaborn\n",
        "5. PyTorch\n",
        "6. TensorFlow"
      ]
    },
    {
      "cell_type": "markdown",
      "metadata": {},
      "source": [
        "|Data Science Tools|\n",
        "|------|\n",
        "|Jupyter Notebook|\n",
        "|VSCode|\n",
        "|RStudio|"
      ]
    },
    {
      "cell_type": "markdown",
      "metadata": {},
      "source": [
        "### The examples of evaluating arithmetic expressions in Python are listed below.\n"
      ]
    },
    {
      "cell_type": "code",
      "execution_count": 3,
      "metadata": {
        "trusted": true
      },
      "outputs": [
        {
          "data": {
            "text/plain": [
              "17"
            ]
          },
          "execution_count": 3,
          "metadata": {},
          "output_type": "execute_result"
        }
      ],
      "source": [
        "## This is a simple arithmetic expression that multiplies integers and then adds them.\n",
        "(3*4)+5"
      ]
    },
    {
      "cell_type": "code",
      "execution_count": 4,
      "metadata": {
        "trusted": true
      },
      "outputs": [
        {
          "data": {
            "text/plain": [
              "3.3333333333333335"
            ]
          },
          "execution_count": 4,
          "metadata": {},
          "output_type": "execute_result"
        }
      ],
      "source": [
        "## This expression can calculate 200 minutes as hours by dividing by 60.\n",
        "200/60"
      ]
    },
    {
      "cell_type": "markdown",
      "metadata": {},
      "source": [
        "## Author\n",
        "**Shan Fan**"
      ]
    }
  ],
  "metadata": {
    "kernelspec": {
      "display_name": "Python (Pyodide)",
      "language": "python",
      "name": "python"
    },
    "language_info": {
      "codemirror_mode": {
        "name": "python",
        "version": 3
      },
      "file_extension": ".py",
      "mimetype": "text/x-python",
      "name": "python",
      "nbconvert_exporter": "python",
      "pygments_lexer": "ipython3",
      "version": "3.8"
    }
  },
  "nbformat": 4,
  "nbformat_minor": 4
}
