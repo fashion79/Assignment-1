{
  "metadata": {
    "kernelspec": {
      "name": "python",
      "display_name": "Python (Pyodide)",
      "language": "python"
    },
    "language_info": {
      "codemirror_mode": {
        "name": "python",
        "version": 3
      },
      "file_extension": ".py",
      "mimetype": "text/x-python",
      "name": "python",
      "nbconvert_exporter": "python",
      "pygments_lexer": "ipython3",
      "version": "3.8"
    }
  },
  "nbformat_minor": 4,
  "nbformat": 4,
  "cells": [
    {
      "cell_type": "markdown",
      "source": "# Data Science Tools and Ecosystem",
      "metadata": {}
    },
    {
      "cell_type": "markdown",
      "source": "**The contents about Data Science Tools and Ecosystem are summarized in this Jupyter Notebook.**",
      "metadata": {}
    },
    {
      "cell_type": "markdown",
      "source": "__Objectives:__",
      "metadata": {}
    },
    {
      "cell_type": "markdown",
      "source": "* Python\n* R\n* SQL\n* Julia\n* JavaScript",
      "metadata": {}
    },
    {
      "cell_type": "markdown",
      "source": "**There are many well-known languages used by Data Scientists. They are:**\n1. Python\n2. R\n3. SQL\n4. Julia\n5. JavaScript",
      "metadata": {
        "jp-MarkdownHeadingCollapsed": true
      }
    },
    {
      "cell_type": "markdown",
      "source": "**The widely utilized libraries in Data Science are:**\n1. Pandas\n2. NumPy\n3. Matplotlib\n4. Seaborn\n5. PyTorch\n6. TensorFlow",
      "metadata": {}
    },
    {
      "cell_type": "markdown",
      "source": "|Data Science Tools|\n|------|\n|Jupyter Notebook|\n|VSCode|\n|RStudio|",
      "metadata": {}
    },
    {
      "cell_type": "markdown",
      "source": "### The examples of evaluating arithmetic expressions in Python are listed below.\n",
      "metadata": {}
    },
    {
      "cell_type": "code",
      "source": "## This is a simple arithmetic expression that multiplies integers and then adds them.\n(3*4)+5",
      "metadata": {
        "trusted": true
      },
      "outputs": [
        {
          "execution_count": 3,
          "output_type": "execute_result",
          "data": {
            "text/plain": "17"
          },
          "metadata": {}
        }
      ],
      "execution_count": 3
    },
    {
      "cell_type": "code",
      "source": "## This expression can calculate 200 minutes as hours by dividing by 60.\n200/60",
      "metadata": {
        "trusted": true
      },
      "outputs": [
        {
          "execution_count": 4,
          "output_type": "execute_result",
          "data": {
            "text/plain": "3.3333333333333335"
          },
          "metadata": {}
        }
      ],
      "execution_count": 4
    },
    {
      "cell_type": "markdown",
      "source": "## Author\n**Shan Fan**",
      "metadata": {}
    },
    {
      "cell_type": "code",
      "source": "",
      "metadata": {
        "trusted": true
      },
      "outputs": [],
      "execution_count": null
    }
  ]
}